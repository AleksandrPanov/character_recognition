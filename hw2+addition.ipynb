{
 "cells": [
  {
   "cell_type": "markdown",
   "metadata": {},
   "source": [
    "Поставлена задача распознования рукописных символов (цифры + английские буквы). Используется The Chars74K dataset.\n",
    "Рассматривается подможество нарисованных от руки символов, 55 образцов в классе, 62 различных класса, 3410 элементов всего. Изображения изначально были бинарные, 1200x900 пикселей. Каждое изобрражение было отцентрировано, преобразовано в квадрат, в разрешение 64x64 (или в 32x32), а также затем построчно добавлено в CSV файл.\n",
    "В дальнейшем планируется отцентировать положение символов (изначально символы расположены в разных местах картинки, а также имеют разного размера).\n",
    "\n",
    "![title](dataset/img003-049.png)\n",
    "Исходное изображение 1200x900\n",
    "![title](dataset/img003.png)\n",
    "Изображение 64х64, неотнормированное и неотцентрированное\n",
    "![title](dataset/img003-049_i64.png)\n",
    "Отнормированное и отцентрированное изображение 64х64"
   ]
  },
  {
   "cell_type": "code",
   "execution_count": 1,
   "metadata": {},
   "outputs": [],
   "source": [
    "import numpy as np\n",
    "import matplotlib.pyplot as plt\n",
    "import pandas as pd\n",
    "size = 32\n",
    "data = pd.read_csv(\"./dataset/data_i\" + str(size) + \".csv\", sep = ',', engine = 'python')"
   ]
  },
  {
   "cell_type": "code",
   "execution_count": 2,
   "metadata": {},
   "outputs": [],
   "source": [
    "X = data.drop(('class'), axis = 1) # выбрасываем столбец 'class'\n",
    "y = data['class']\n",
    "feature_names = X.columns"
   ]
  },
  {
   "cell_type": "code",
   "execution_count": 3,
   "metadata": {},
   "outputs": [
    {
     "name": "stdout",
     "output_type": "stream",
     "text": [
      "(3410, 1024)\n",
      "(3410,)\n"
     ]
    }
   ],
   "source": [
    "print(X.shape)\n",
    "print(y.shape)\n",
    "N, d = X.shape"
   ]
  },
  {
   "cell_type": "code",
   "execution_count": 4,
   "metadata": {},
   "outputs": [
    {
     "name": "stdout",
     "output_type": "stream",
     "text": [
      "2728 682\n"
     ]
    }
   ],
   "source": [
    "from sklearn.model_selection import train_test_split\n",
    "X_train, X_test, y_train, y_test = train_test_split(X, y, test_size = 0.2, random_state = 42)\n",
    "N_train, _ = X_train.shape \n",
    "N_test,  _ = X_test.shape \n",
    "print(N_train, N_test)"
   ]
  },
  {
   "cell_type": "code",
   "execution_count": 5,
   "metadata": {},
   "outputs": [
    {
     "name": "stdout",
     "output_type": "stream",
     "text": [
      "0.0 0.28152492668621704\n"
     ]
    }
   ],
   "source": [
    "from sklearn.neighbors import KNeighborsClassifier\n",
    "\n",
    "knn = KNeighborsClassifier(n_neighbors = 1, metric='hamming', n_jobs = 4)\n",
    "knn.fit(X_train, y_train)\n",
    "\n",
    "y_train_predict = knn.predict(X_train)\n",
    "y_test_predict = knn.predict(X_test)\n",
    "\n",
    "err_train = np.mean(y_train != y_train_predict)\n",
    "err_test  = np.mean(y_test  != y_test_predict)\n",
    "\n",
    "print(err_train, err_test)"
   ]
  },
  {
   "cell_type": "code",
   "execution_count": 6,
   "metadata": {},
   "outputs": [
    {
     "name": "stdout",
     "output_type": "stream",
     "text": [
      "0.15065982404692083 0.3152492668621701\n"
     ]
    }
   ],
   "source": [
    "knn = KNeighborsClassifier(n_neighbors = 2, metric='hamming', n_jobs = 4)\n",
    "knn.fit(X_train, y_train)\n",
    "y_train_predict = knn.predict(X_train)\n",
    "y_test_predict = knn.predict(X_test)\n",
    "\n",
    "err_train = np.mean(y_train != y_train_predict)\n",
    "err_test  = np.mean(y_test  != y_test_predict)\n",
    "\n",
    "print(err_train, err_test)"
   ]
  },
  {
   "cell_type": "code",
   "execution_count": 7,
   "metadata": {},
   "outputs": [
    {
     "name": "stdout",
     "output_type": "stream",
     "text": [
      "0.15139296187683285 0.3064516129032258\n"
     ]
    }
   ],
   "source": [
    "knn = KNeighborsClassifier(n_neighbors = 3, metric='hamming', n_jobs = 4)\n",
    "knn.fit(X_train, y_train)\n",
    "y_train_predict = knn.predict(X_train)\n",
    "y_test_predict = knn.predict(X_test)\n",
    "\n",
    "err_train = np.mean(y_train != y_train_predict)\n",
    "err_test  = np.mean(y_test  != y_test_predict)\n",
    "\n",
    "print(err_train, err_test)"
   ]
  },
  {
   "cell_type": "code",
   "execution_count": 8,
   "metadata": {},
   "outputs": [
    {
     "name": "stdout",
     "output_type": "stream",
     "text": [
      "0.17192082111436952 0.30058651026392963\n"
     ]
    }
   ],
   "source": [
    "knn = KNeighborsClassifier(n_neighbors = 4, metric='hamming', n_jobs = 4)\n",
    "knn.fit(X_train, y_train)\n",
    "y_train_predict = knn.predict(X_train)\n",
    "y_test_predict = knn.predict(X_test)\n",
    "\n",
    "err_train = np.mean(y_train != y_train_predict)\n",
    "err_test  = np.mean(y_test  != y_test_predict)\n",
    "\n",
    "print(err_train, err_test)"
   ]
  },
  {
   "cell_type": "code",
   "execution_count": 9,
   "metadata": {},
   "outputs": [
    {
     "name": "stdout",
     "output_type": "stream",
     "text": [
      "0.1814516129032258 0.2932551319648094\n"
     ]
    }
   ],
   "source": [
    "knn = KNeighborsClassifier(n_neighbors = 5, metric='hamming', n_jobs = 4)\n",
    "knn.fit(X_train, y_train)\n",
    "y_train_predict = knn.predict(X_train)\n",
    "y_test_predict = knn.predict(X_test)\n",
    "\n",
    "err_train = np.mean(y_train != y_train_predict)\n",
    "err_test  = np.mean(y_test  != y_test_predict)\n",
    "\n",
    "print(err_train, err_test)"
   ]
  },
  {
   "cell_type": "code",
   "execution_count": 10,
   "metadata": {},
   "outputs": [
    {
     "name": "stdout",
     "output_type": "stream",
     "text": [
      "0.19611436950146627 0.30058651026392963\n"
     ]
    }
   ],
   "source": [
    "knn = KNeighborsClassifier(n_neighbors = 6, metric='hamming', n_jobs = 4)\n",
    "knn.fit(X_train, y_train)\n",
    "y_train_predict = knn.predict(X_train)\n",
    "y_test_predict = knn.predict(X_test)\n",
    "\n",
    "err_train = np.mean(y_train != y_train_predict)\n",
    "err_test  = np.mean(y_test  != y_test_predict)\n",
    "\n",
    "print(err_train, err_test)"
   ]
  },
  {
   "cell_type": "code",
   "execution_count": 29,
   "metadata": {},
   "outputs": [
    {
     "name": "stdout",
     "output_type": "stream",
     "text": [
      "0.21444281524926687 0.2859237536656892\n"
     ]
    }
   ],
   "source": [
    "knn = KNeighborsClassifier(n_neighbors = 8, metric='hamming', n_jobs = 4)\n",
    "knn.fit(X_train, y_train)\n",
    "y_train_predict = knn.predict(X_train)\n",
    "y_test_predict = knn.predict(X_test)\n",
    "\n",
    "err_train = np.mean(y_train != y_train_predict)\n",
    "err_test  = np.mean(y_test  != y_test_predict)\n",
    "\n",
    "print(err_train, err_test)"
   ]
  },
  {
   "cell_type": "code",
   "execution_count": 12,
   "metadata": {},
   "outputs": [
    {
     "name": "stdout",
     "output_type": "stream",
     "text": [
      "0.22947214076246333 0.3035190615835777\n"
     ]
    }
   ],
   "source": [
    "knn = KNeighborsClassifier(n_neighbors = 10, metric='hamming', n_jobs = 4)\n",
    "knn.fit(X_train, y_train)\n",
    "y_train_predict = knn.predict(X_train)\n",
    "y_test_predict = knn.predict(X_test)\n",
    "\n",
    "err_train = np.mean(y_train != y_train_predict)\n",
    "err_test  = np.mean(y_test  != y_test_predict)\n",
    "\n",
    "print(err_train, err_test)"
   ]
  },
  {
   "cell_type": "code",
   "execution_count": 13,
   "metadata": {},
   "outputs": [
    {
     "name": "stdout",
     "output_type": "stream",
     "text": [
      "0.2313049853372434 0.28885630498533726\n"
     ]
    }
   ],
   "source": [
    "knn = KNeighborsClassifier(n_neighbors = 12, metric='hamming', n_jobs = 4)\n",
    "knn.fit(X_train, y_train)\n",
    "y_train_predict = knn.predict(X_train)\n",
    "y_test_predict = knn.predict(X_test)\n",
    "\n",
    "err_train = np.mean(y_train != y_train_predict)\n",
    "err_test  = np.mean(y_test  != y_test_predict)\n",
    "\n",
    "print(err_train, err_test)"
   ]
  },
  {
   "cell_type": "code",
   "execution_count": 14,
   "metadata": {},
   "outputs": [
    {
     "name": "stdout",
     "output_type": "stream",
     "text": [
      "0.24083577712609971 0.2991202346041056\n"
     ]
    }
   ],
   "source": [
    "knn = KNeighborsClassifier(n_neighbors = 14, metric='hamming', n_jobs = 4)\n",
    "knn.fit(X_train, y_train)\n",
    "y_train_predict = knn.predict(X_train)\n",
    "y_test_predict = knn.predict(X_test)\n",
    "\n",
    "err_train = np.mean(y_train != y_train_predict)\n",
    "err_test  = np.mean(y_test  != y_test_predict)\n",
    "\n",
    "print(err_train, err_test)"
   ]
  },
  {
   "cell_type": "code",
   "execution_count": 15,
   "metadata": {},
   "outputs": [
    {
     "name": "stdout",
     "output_type": "stream",
     "text": [
      "0.2587976539589443 0.3093841642228739\n"
     ]
    }
   ],
   "source": [
    "knn = KNeighborsClassifier(n_neighbors = 18, metric='hamming', n_jobs = 4)\n",
    "knn.fit(X_train, y_train)\n",
    "y_train_predict = knn.predict(X_train)\n",
    "y_test_predict = knn.predict(X_test)\n",
    "\n",
    "err_train = np.mean(y_train != y_train_predict)\n",
    "err_test  = np.mean(y_test  != y_test_predict)\n",
    "\n",
    "print(err_train, err_test)"
   ]
  },
  {
   "cell_type": "markdown",
   "metadata": {},
   "source": [
    "Лучшая ошибка на тестовой выборке получилась 0.271 в случае 1 соседа. Вторая величина ошибки получилась 0.28 при числе соседей 10 (0.225 на обучающей выборке). Для классификации 62 классв, для начала такое значение сойдет. Тем более, что в dataset присутсвуют очень похожие классы - g-9, 1-i-l, o-O-0, некоторые заглавные и прописные буквы.\n",
    "Значения предсказаний:"
   ]
  },
  {
   "cell_type": "code",
   "execution_count": 16,
   "metadata": {},
   "outputs": [
    {
     "data": {
      "text/html": [
       "<div>\n",
       "<style scoped>\n",
       "    .dataframe tbody tr th:only-of-type {\n",
       "        vertical-align: middle;\n",
       "    }\n",
       "\n",
       "    .dataframe tbody tr th {\n",
       "        vertical-align: top;\n",
       "    }\n",
       "\n",
       "    .dataframe thead th {\n",
       "        text-align: right;\n",
       "    }\n",
       "</style>\n",
       "<table border=\"1\" class=\"dataframe\">\n",
       "  <thead>\n",
       "    <tr style=\"text-align: right;\">\n",
       "      <th></th>\n",
       "      <th>0</th>\n",
       "      <th>1</th>\n",
       "    </tr>\n",
       "  </thead>\n",
       "  <tbody>\n",
       "    <tr>\n",
       "      <th>0</th>\n",
       "      <td>v</td>\n",
       "      <td>v</td>\n",
       "    </tr>\n",
       "    <tr>\n",
       "      <th>1</th>\n",
       "      <td>W</td>\n",
       "      <td>W</td>\n",
       "    </tr>\n",
       "    <tr>\n",
       "      <th>2</th>\n",
       "      <td>3</td>\n",
       "      <td>3</td>\n",
       "    </tr>\n",
       "    <tr>\n",
       "      <th>3</th>\n",
       "      <td>C</td>\n",
       "      <td>C</td>\n",
       "    </tr>\n",
       "    <tr>\n",
       "      <th>4</th>\n",
       "      <td>o</td>\n",
       "      <td>0</td>\n",
       "    </tr>\n",
       "    <tr>\n",
       "      <th>5</th>\n",
       "      <td>t</td>\n",
       "      <td>t</td>\n",
       "    </tr>\n",
       "    <tr>\n",
       "      <th>6</th>\n",
       "      <td>W</td>\n",
       "      <td>w</td>\n",
       "    </tr>\n",
       "    <tr>\n",
       "      <th>7</th>\n",
       "      <td>Q</td>\n",
       "      <td>O</td>\n",
       "    </tr>\n",
       "    <tr>\n",
       "      <th>8</th>\n",
       "      <td>f</td>\n",
       "      <td>f</td>\n",
       "    </tr>\n",
       "    <tr>\n",
       "      <th>9</th>\n",
       "      <td>Q</td>\n",
       "      <td>0</td>\n",
       "    </tr>\n",
       "    <tr>\n",
       "      <th>10</th>\n",
       "      <td>T</td>\n",
       "      <td>T</td>\n",
       "    </tr>\n",
       "    <tr>\n",
       "      <th>11</th>\n",
       "      <td>x</td>\n",
       "      <td>x</td>\n",
       "    </tr>\n",
       "    <tr>\n",
       "      <th>12</th>\n",
       "      <td>3</td>\n",
       "      <td>3</td>\n",
       "    </tr>\n",
       "    <tr>\n",
       "      <th>13</th>\n",
       "      <td>K</td>\n",
       "      <td>K</td>\n",
       "    </tr>\n",
       "    <tr>\n",
       "      <th>14</th>\n",
       "      <td>1</td>\n",
       "      <td>I</td>\n",
       "    </tr>\n",
       "    <tr>\n",
       "      <th>15</th>\n",
       "      <td>s</td>\n",
       "      <td>s</td>\n",
       "    </tr>\n",
       "    <tr>\n",
       "      <th>16</th>\n",
       "      <td>W</td>\n",
       "      <td>W</td>\n",
       "    </tr>\n",
       "    <tr>\n",
       "      <th>17</th>\n",
       "      <td>O</td>\n",
       "      <td>0</td>\n",
       "    </tr>\n",
       "    <tr>\n",
       "      <th>18</th>\n",
       "      <td>H</td>\n",
       "      <td>H</td>\n",
       "    </tr>\n",
       "    <tr>\n",
       "      <th>19</th>\n",
       "      <td>T</td>\n",
       "      <td>T</td>\n",
       "    </tr>\n",
       "    <tr>\n",
       "      <th>20</th>\n",
       "      <td>m</td>\n",
       "      <td>m</td>\n",
       "    </tr>\n",
       "    <tr>\n",
       "      <th>21</th>\n",
       "      <td>S</td>\n",
       "      <td>S</td>\n",
       "    </tr>\n",
       "    <tr>\n",
       "      <th>22</th>\n",
       "      <td>m</td>\n",
       "      <td>m</td>\n",
       "    </tr>\n",
       "    <tr>\n",
       "      <th>23</th>\n",
       "      <td>m</td>\n",
       "      <td>m</td>\n",
       "    </tr>\n",
       "    <tr>\n",
       "      <th>24</th>\n",
       "      <td>0</td>\n",
       "      <td>O</td>\n",
       "    </tr>\n",
       "    <tr>\n",
       "      <th>25</th>\n",
       "      <td>G</td>\n",
       "      <td>C</td>\n",
       "    </tr>\n",
       "    <tr>\n",
       "      <th>26</th>\n",
       "      <td>f</td>\n",
       "      <td>1</td>\n",
       "    </tr>\n",
       "    <tr>\n",
       "      <th>27</th>\n",
       "      <td>g</td>\n",
       "      <td>r</td>\n",
       "    </tr>\n",
       "    <tr>\n",
       "      <th>28</th>\n",
       "      <td>G</td>\n",
       "      <td>G</td>\n",
       "    </tr>\n",
       "    <tr>\n",
       "      <th>29</th>\n",
       "      <td>x</td>\n",
       "      <td>x</td>\n",
       "    </tr>\n",
       "    <tr>\n",
       "      <th>...</th>\n",
       "      <td>...</td>\n",
       "      <td>...</td>\n",
       "    </tr>\n",
       "    <tr>\n",
       "      <th>652</th>\n",
       "      <td>D</td>\n",
       "      <td>D</td>\n",
       "    </tr>\n",
       "    <tr>\n",
       "      <th>653</th>\n",
       "      <td>a</td>\n",
       "      <td>a</td>\n",
       "    </tr>\n",
       "    <tr>\n",
       "      <th>654</th>\n",
       "      <td>e</td>\n",
       "      <td>e</td>\n",
       "    </tr>\n",
       "    <tr>\n",
       "      <th>655</th>\n",
       "      <td>B</td>\n",
       "      <td>B</td>\n",
       "    </tr>\n",
       "    <tr>\n",
       "      <th>656</th>\n",
       "      <td>Q</td>\n",
       "      <td>Q</td>\n",
       "    </tr>\n",
       "    <tr>\n",
       "      <th>657</th>\n",
       "      <td>u</td>\n",
       "      <td>U</td>\n",
       "    </tr>\n",
       "    <tr>\n",
       "      <th>658</th>\n",
       "      <td>s</td>\n",
       "      <td>2</td>\n",
       "    </tr>\n",
       "    <tr>\n",
       "      <th>659</th>\n",
       "      <td>V</td>\n",
       "      <td>Y</td>\n",
       "    </tr>\n",
       "    <tr>\n",
       "      <th>660</th>\n",
       "      <td>W</td>\n",
       "      <td>W</td>\n",
       "    </tr>\n",
       "    <tr>\n",
       "      <th>661</th>\n",
       "      <td>w</td>\n",
       "      <td>W</td>\n",
       "    </tr>\n",
       "    <tr>\n",
       "      <th>662</th>\n",
       "      <td>A</td>\n",
       "      <td>l</td>\n",
       "    </tr>\n",
       "    <tr>\n",
       "      <th>663</th>\n",
       "      <td>X</td>\n",
       "      <td>X</td>\n",
       "    </tr>\n",
       "    <tr>\n",
       "      <th>664</th>\n",
       "      <td>K</td>\n",
       "      <td>k</td>\n",
       "    </tr>\n",
       "    <tr>\n",
       "      <th>665</th>\n",
       "      <td>1</td>\n",
       "      <td>1</td>\n",
       "    </tr>\n",
       "    <tr>\n",
       "      <th>666</th>\n",
       "      <td>0</td>\n",
       "      <td>0</td>\n",
       "    </tr>\n",
       "    <tr>\n",
       "      <th>667</th>\n",
       "      <td>W</td>\n",
       "      <td>w</td>\n",
       "    </tr>\n",
       "    <tr>\n",
       "      <th>668</th>\n",
       "      <td>J</td>\n",
       "      <td>I</td>\n",
       "    </tr>\n",
       "    <tr>\n",
       "      <th>669</th>\n",
       "      <td>W</td>\n",
       "      <td>H</td>\n",
       "    </tr>\n",
       "    <tr>\n",
       "      <th>670</th>\n",
       "      <td>t</td>\n",
       "      <td>t</td>\n",
       "    </tr>\n",
       "    <tr>\n",
       "      <th>671</th>\n",
       "      <td>o</td>\n",
       "      <td>O</td>\n",
       "    </tr>\n",
       "    <tr>\n",
       "      <th>672</th>\n",
       "      <td>G</td>\n",
       "      <td>G</td>\n",
       "    </tr>\n",
       "    <tr>\n",
       "      <th>673</th>\n",
       "      <td>E</td>\n",
       "      <td>E</td>\n",
       "    </tr>\n",
       "    <tr>\n",
       "      <th>674</th>\n",
       "      <td>k</td>\n",
       "      <td>k</td>\n",
       "    </tr>\n",
       "    <tr>\n",
       "      <th>675</th>\n",
       "      <td>w</td>\n",
       "      <td>w</td>\n",
       "    </tr>\n",
       "    <tr>\n",
       "      <th>676</th>\n",
       "      <td>p</td>\n",
       "      <td>P</td>\n",
       "    </tr>\n",
       "    <tr>\n",
       "      <th>677</th>\n",
       "      <td>Y</td>\n",
       "      <td>Y</td>\n",
       "    </tr>\n",
       "    <tr>\n",
       "      <th>678</th>\n",
       "      <td>M</td>\n",
       "      <td>H</td>\n",
       "    </tr>\n",
       "    <tr>\n",
       "      <th>679</th>\n",
       "      <td>A</td>\n",
       "      <td>A</td>\n",
       "    </tr>\n",
       "    <tr>\n",
       "      <th>680</th>\n",
       "      <td>S</td>\n",
       "      <td>s</td>\n",
       "    </tr>\n",
       "    <tr>\n",
       "      <th>681</th>\n",
       "      <td>O</td>\n",
       "      <td>C</td>\n",
       "    </tr>\n",
       "  </tbody>\n",
       "</table>\n",
       "<p>682 rows × 2 columns</p>\n",
       "</div>"
      ],
      "text/plain": [
       "     0  1\n",
       "0    v  v\n",
       "1    W  W\n",
       "2    3  3\n",
       "3    C  C\n",
       "4    o  0\n",
       "5    t  t\n",
       "6    W  w\n",
       "7    Q  O\n",
       "8    f  f\n",
       "9    Q  0\n",
       "10   T  T\n",
       "11   x  x\n",
       "12   3  3\n",
       "13   K  K\n",
       "14   1  I\n",
       "15   s  s\n",
       "16   W  W\n",
       "17   O  0\n",
       "18   H  H\n",
       "19   T  T\n",
       "20   m  m\n",
       "21   S  S\n",
       "22   m  m\n",
       "23   m  m\n",
       "24   0  O\n",
       "25   G  C\n",
       "26   f  1\n",
       "27   g  r\n",
       "28   G  G\n",
       "29   x  x\n",
       "..  .. ..\n",
       "652  D  D\n",
       "653  a  a\n",
       "654  e  e\n",
       "655  B  B\n",
       "656  Q  Q\n",
       "657  u  U\n",
       "658  s  2\n",
       "659  V  Y\n",
       "660  W  W\n",
       "661  w  W\n",
       "662  A  l\n",
       "663  X  X\n",
       "664  K  k\n",
       "665  1  1\n",
       "666  0  0\n",
       "667  W  w\n",
       "668  J  I\n",
       "669  W  H\n",
       "670  t  t\n",
       "671  o  O\n",
       "672  G  G\n",
       "673  E  E\n",
       "674  k  k\n",
       "675  w  w\n",
       "676  p  P\n",
       "677  Y  Y\n",
       "678  M  H\n",
       "679  A  A\n",
       "680  S  s\n",
       "681  O  C\n",
       "\n",
       "[682 rows x 2 columns]"
      ]
     },
     "execution_count": 16,
     "metadata": {},
     "output_type": "execute_result"
    }
   ],
   "source": [
    "res_test = pd.concat((pd.Series(np.array(y_test)), pd.Series(y_test_predict)), axis = 1)\n",
    "res_test"
   ]
  },
  {
   "cell_type": "markdown",
   "metadata": {},
   "source": [
    "Запустим PCA для тренировочных данных, с числом главных компонент = 2:"
   ]
  },
  {
   "cell_type": "code",
   "execution_count": 42,
   "metadata": {},
   "outputs": [
    {
     "data": {
      "text/plain": [
       "PCA(copy=True, iterated_power='auto', n_components=2, random_state=None,\n",
       "    svd_solver='auto', tol=0.0, whiten=False)"
      ]
     },
     "execution_count": 42,
     "metadata": {},
     "output_type": "execute_result"
    }
   ],
   "source": [
    "from sklearn.decomposition import PCA\n",
    "pca = PCA(n_components=2)\n",
    "pca.fit(X_train)"
   ]
  },
  {
   "cell_type": "code",
   "execution_count": 43,
   "metadata": {},
   "outputs": [
    {
     "name": "stdout",
     "output_type": "stream",
     "text": [
      "[[-5.26376980e-20  2.23828345e-04  8.30658741e-04 ...  2.33656561e-03\n",
      "   3.78179010e-04 -8.15432067e-05]\n",
      " [-8.11734455e-19  4.96753791e-04  1.99645002e-03 ...  2.25748338e-03\n",
      "   4.31111576e-04 -8.77809531e-05]]\n",
      "[20.49926831 13.5135574 ]\n",
      "[236.43499041 191.96736972]\n"
     ]
    }
   ],
   "source": [
    "print(pca.components_)\n",
    "print(pca.explained_variance_)\n",
    "print(pca.singular_values_)"
   ]
  },
  {
   "cell_type": "markdown",
   "metadata": {},
   "source": [
    "Преобразуем тренировочные и тестовые данные в соотвествии с новым базисом и запустим knn"
   ]
  },
  {
   "cell_type": "code",
   "execution_count": 44,
   "metadata": {},
   "outputs": [
    {
     "name": "stdout",
     "output_type": "stream",
     "text": [
      "0.7034457478005866\n",
      "0.8533724340175953\n"
     ]
    }
   ],
   "source": [
    "X_train_pca = pca.transform(X_train)\n",
    "X_test_pca = pca.transform(X_test)\n",
    "knn = KNeighborsClassifier(n_neighbors = 10, n_jobs = 4)\n",
    "knn.fit(X_train_pca, y_train)\n",
    "y_train_predict_pca = knn.predict(X_train_pca)\n",
    "y_test_predict_pca = knn.predict(X_test_pca)\n",
    "err_train_pca = np.mean(y_train != y_train_predict_pca)\n",
    "err_test_pca  = np.mean(y_test  != y_test_predict_pca)\n",
    "print(err_train_pca)\n",
    "print(err_test_pca)"
   ]
  },
  {
   "cell_type": "markdown",
   "metadata": {},
   "source": [
    "Так как размерность задачи 64*64 признаков, то смысла использовать только 2 признака, т.е. 0.04% от всего количества признаков не имеет."
   ]
  },
  {
   "cell_type": "code",
   "execution_count": 51,
   "metadata": {},
   "outputs": [
    {
     "name": "stdout",
     "output_type": "stream",
     "text": [
      "16\n",
      "0.20491202346041057\n",
      "0.2859237536656892\n",
      "32\n",
      "0.19318181818181818\n",
      "0.2653958944281525\n",
      "48\n",
      "0.19538123167155425\n",
      "0.25806451612903225\n",
      "64\n",
      "0.19208211143695014\n",
      "0.2653958944281525\n",
      "80\n",
      "0.19611436950146627\n",
      "0.2668621700879765\n",
      "96\n",
      "0.2005131964809384\n",
      "0.2624633431085044\n",
      "112\n",
      "0.1975806451612903\n",
      "0.2653958944281525\n",
      "128\n",
      "0.19978005865102638\n",
      "0.2668621700879765\n",
      "144\n",
      "0.20381231671554254\n",
      "0.2653958944281525\n",
      "160\n",
      "0.20491202346041057\n",
      "0.27126099706744866\n",
      "176\n",
      "0.20491202346041057\n",
      "0.2727272727272727\n",
      "192\n",
      "0.20711143695014664\n",
      "0.27712609970674484\n",
      "208\n",
      "0.2060117302052786\n",
      "0.2697947214076246\n",
      "224\n",
      "0.20674486803519063\n",
      "0.27126099706744866\n",
      "240\n",
      "0.20417888563049855\n",
      "0.28005865102639294\n",
      "256\n",
      "0.2060117302052786\n",
      "0.2756598240469208\n",
      "272\n",
      "0.20491202346041057\n",
      "0.28152492668621704\n",
      "288\n",
      "0.20857771260997068\n",
      "0.28152492668621704\n",
      "304\n",
      "0.2060117302052786\n",
      "0.2844574780058651\n",
      "320\n",
      "0.20747800586510265\n",
      "0.2859237536656892\n",
      "336\n",
      "0.20491202346041057\n",
      "0.2844574780058651\n",
      "352\n",
      "0.2060117302052786\n",
      "0.28885630498533726\n",
      "368\n",
      "0.20527859237536658\n",
      "0.2859237536656892\n",
      "384\n",
      "0.20527859237536658\n",
      "0.2873900293255132\n",
      "400\n",
      "0.20747800586510265\n",
      "0.2873900293255132\n",
      "416\n",
      "0.20637829912023462\n",
      "0.2873900293255132\n",
      "432\n",
      "0.20417888563049855\n",
      "0.28885630498533726\n",
      "448\n",
      "0.2056451612903226\n",
      "0.29178885630498536\n",
      "464\n",
      "0.20784457478005866\n",
      "0.28885630498533726\n",
      "480\n",
      "0.20747800586510265\n",
      "0.2873900293255132\n",
      "496\n",
      "0.2060117302052786\n",
      "0.2859237536656892\n",
      "512\n",
      "0.20711143695014664\n",
      "0.28885630498533726\n",
      "528\n",
      "0.20747800586510265\n",
      "0.28885630498533726\n",
      "544\n",
      "0.20784457478005866\n",
      "0.29178885630498536\n",
      "560\n",
      "0.20784457478005866\n",
      "0.28885630498533726\n",
      "576\n",
      "0.20857771260997068\n",
      "0.2903225806451613\n",
      "592\n",
      "0.20711143695014664\n",
      "0.28885630498533726\n",
      "608\n",
      "0.20747800586510265\n",
      "0.2903225806451613\n",
      "624\n",
      "0.20857771260997068\n",
      "0.29178885630498536\n",
      "640\n",
      "0.2089442815249267\n",
      "0.2903225806451613\n",
      "656\n",
      "0.2089442815249267\n",
      "0.2903225806451613\n",
      "672\n",
      "0.20857771260997068\n",
      "0.29178885630498536\n",
      "688\n",
      "0.21077712609970675\n",
      "0.2903225806451613\n",
      "704\n",
      "0.21004398826979473\n",
      "0.29178885630498536\n",
      "720\n",
      "0.21114369501466276\n",
      "0.28885630498533726\n",
      "736\n",
      "0.21041055718475074\n",
      "0.2903225806451613\n",
      "752\n",
      "0.21151026392961877\n",
      "0.2903225806451613\n",
      "768\n",
      "0.21151026392961877\n",
      "0.2873900293255132\n",
      "784\n",
      "0.21151026392961877\n",
      "0.2903225806451613\n",
      "800\n",
      "0.2122434017595308\n",
      "0.2873900293255132\n",
      "816\n",
      "0.2118768328445748\n",
      "0.2903225806451613\n",
      "832\n",
      "0.2122434017595308\n",
      "0.29178885630498536\n",
      "848\n",
      "0.2126099706744868\n",
      "0.29178885630498536\n",
      "864\n",
      "0.21334310850439883\n",
      "0.29178885630498536\n",
      "880\n",
      "0.21297653958944282\n",
      "0.29178885630498536\n",
      "896\n",
      "0.2126099706744868\n",
      "0.29178885630498536\n",
      "912\n",
      "0.21334310850439883\n",
      "0.2903225806451613\n",
      "928\n",
      "0.21334310850439883\n",
      "0.2903225806451613\n",
      "944\n",
      "0.21334310850439883\n",
      "0.28885630498533726\n",
      "960\n",
      "0.2122434017595308\n",
      "0.28885630498533726\n",
      "976\n",
      "0.2122434017595308\n",
      "0.28885630498533726\n",
      "992\n",
      "0.21334310850439883\n",
      "0.28885630498533726\n",
      "1008\n",
      "0.21334310850439883\n",
      "0.28885630498533726\n",
      "1024\n",
      "0.2126099706744868\n",
      "0.29178885630498536\n"
     ]
    }
   ],
   "source": [
    "for n in range(16, min(size*size + 1, X_train.shape[0] + 1), 16):\n",
    "    pca = PCA(n_components=n)\n",
    "    print(n)\n",
    "    pca.fit(X)\n",
    "    X_train_pca = pca.transform(X_train)\n",
    "    X_test_pca = pca.transform(X_test)\n",
    "    knn = KNeighborsClassifier(n_neighbors = 8, n_jobs = 4)\n",
    "    knn.fit(X_train_pca, y_train)\n",
    "    y_train_predict_pca = knn.predict(X_train_pca)\n",
    "    y_test_predict_pca = knn.predict(X_test_pca)\n",
    "    err_train_pca = np.mean(y_train != y_train_predict_pca)\n",
    "    err_test_pca  = np.mean(y_test  != y_test_predict_pca)\n",
    "    print(err_train_pca)\n",
    "    print(err_test_pca)"
   ]
  }
 ],
 "metadata": {
  "kernelspec": {
   "display_name": "Python 3",
   "language": "python",
   "name": "python3"
  },
  "language_info": {
   "codemirror_mode": {
    "name": "ipython",
    "version": 3
   },
   "file_extension": ".py",
   "mimetype": "text/x-python",
   "name": "python",
   "nbconvert_exporter": "python",
   "pygments_lexer": "ipython3",
   "version": "3.7.2"
  }
 },
 "nbformat": 4,
 "nbformat_minor": 2
}
